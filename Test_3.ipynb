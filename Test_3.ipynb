{
 "cells": [
  {
   "cell_type": "code",
   "execution_count": 1,
   "metadata": {},
   "outputs": [],
   "source": [
    "import numpy as np\n",
    "import pandas as pd\n",
    "import seaborn as sns\n",
    "import matplotlib.pyplot as plt\n",
    "sns.set(style=\"white\", rc={\"axes.facecolor\": (0, 0, 0, 0)})"
   ]
  },
  {
   "cell_type": "code",
   "execution_count": 3,
   "metadata": {},
   "outputs": [],
   "source": [
    "# load the data\n",
    "sample_ccy = pd.read_csv('/Users/lacivert/3/ccy.csv')\n",
    "# Assign DataFrame\n",
    "df = pd.DataFrame(sample_ccy)"
   ]
  },
  {
   "cell_type": "code",
   "execution_count": 4,
   "metadata": {},
   "outputs": [
    {
     "data": {
      "text/plain": [
       "['4 Jan 1999 - 27 July 2018',\n",
       " 'EUR/USD',\n",
       " 'GBP/USD',\n",
       " 'AUD/USD',\n",
       " 'USD/CAD',\n",
       " 'USD/CHF']"
      ]
     },
     "execution_count": 4,
     "metadata": {},
     "output_type": "execute_result"
    }
   ],
   "source": [
    "# List column names to display the variables for anaylsis\n",
    "list(df.columns.values)"
   ]
  },
  {
   "cell_type": "code",
   "execution_count": 8,
   "metadata": {},
   "outputs": [],
   "source": [
    "# Setting up exchange rate variables \n",
    "EUR_USD,GBP_USD,AUD_USD,USD_CAD,USD_CHF = df.loc[:,'EUR/USD'],df.loc[:,'GBP/USD'],df.loc[:,'AUD/USD'],df.loc[:,'USD/CAD'],df.loc[:,'USD/CHF']"
   ]
  },
  {
   "cell_type": "code",
   "execution_count": 9,
   "metadata": {},
   "outputs": [
    {
     "data": {
      "text/plain": [
       "(4918, 4918, 4918, 4918, 4918)"
      ]
     },
     "execution_count": 9,
     "metadata": {},
     "output_type": "execute_result"
    }
   ],
   "source": [
    "# sanity check on the number of values in each exchange rates \n",
    "len (EUR_USD), len (GBP_USD), len (AUD_USD), len (USD_CAD), len(USD_CHF)"
   ]
  },
  {
   "cell_type": "code",
   "execution_count": 10,
   "metadata": {},
   "outputs": [
    {
     "data": {
      "text/plain": [
       "(0    1.5268\n",
       " 1    1.5213\n",
       " 2    1.5110\n",
       " 3    1.5117\n",
       " 4    1.5145\n",
       " Name: USD/CAD, dtype: float64, 0    1.3666\n",
       " 1    1.3694\n",
       " 2    1.3852\n",
       " 3    1.3863\n",
       " 4    1.3970\n",
       " Name: USD/CHF, dtype: float64)"
      ]
     },
     "execution_count": 10,
     "metadata": {},
     "output_type": "execute_result"
    }
   ],
   "source": [
    "# Ensure all exchange rates are expressed the same way , i.e. in US Dollars . . . so need to flip these\n",
    "USD_CAD.head(), USD_CHF.head()"
   ]
  },
  {
   "cell_type": "code",
   "execution_count": 12,
   "metadata": {},
   "outputs": [],
   "source": [
    "# to flip the exchange rates divide with an array of ones\n",
    "ones = np.ones_like(USD_CAD)"
   ]
  },
  {
   "cell_type": "code",
   "execution_count": 13,
   "metadata": {},
   "outputs": [],
   "source": [
    "CAD_USD, CHF_USD = ones / USD_CAD, ones / USD_CHF"
   ]
  },
  {
   "cell_type": "code",
   "execution_count": 14,
   "metadata": {},
   "outputs": [
    {
     "data": {
      "text/plain": [
       "(0    0.654965\n",
       " 1    0.657333\n",
       " 2    0.661813\n",
       " 3    0.661507\n",
       " 4    0.660284\n",
       " Name: USD/CAD, dtype: float64, 0    0.731743\n",
       " 1    0.730247\n",
       " 2    0.721917\n",
       " 3    0.721345\n",
       " 4    0.715820\n",
       " Name: USD/CHF, dtype: float64)"
      ]
     },
     "execution_count": 14,
     "metadata": {},
     "output_type": "execute_result"
    }
   ],
   "source": [
    "CAD_USD.head(), CHF_USD.head()"
   ]
  },
  {
   "cell_type": "code",
   "execution_count": 16,
   "metadata": {},
   "outputs": [
    {
     "data": {
      "text/plain": [
       "(4918, 4918, 4918, 4918, 4918, 4918, 4918)"
      ]
     },
     "execution_count": 16,
     "metadata": {},
     "output_type": "execute_result"
    }
   ],
   "source": [
    "# sanity check on the number of values in each exchange rates \n",
    "len (EUR_USD), len (GBP_USD), len (AUD_USD), len (USD_CAD), len(USD_CHF), len (CAD_USD), len (CHF_USD)"
   ]
  },
  {
   "cell_type": "code",
   "execution_count": 17,
   "metadata": {},
   "outputs": [
    {
     "data": {
      "text/html": [
       "<div>\n",
       "<style scoped>\n",
       "    .dataframe tbody tr th:only-of-type {\n",
       "        vertical-align: middle;\n",
       "    }\n",
       "\n",
       "    .dataframe tbody tr th {\n",
       "        vertical-align: top;\n",
       "    }\n",
       "\n",
       "    .dataframe thead th {\n",
       "        text-align: right;\n",
       "    }\n",
       "</style>\n",
       "<table border=\"1\" class=\"dataframe\">\n",
       "  <thead>\n",
       "    <tr style=\"text-align: right;\">\n",
       "      <th></th>\n",
       "      <th>0</th>\n",
       "      <th>1</th>\n",
       "      <th>2</th>\n",
       "      <th>3</th>\n",
       "      <th>4</th>\n",
       "      <th>5</th>\n",
       "      <th>6</th>\n",
       "      <th>7</th>\n",
       "      <th>8</th>\n",
       "      <th>9</th>\n",
       "      <th>...</th>\n",
       "      <th>4908</th>\n",
       "      <th>4909</th>\n",
       "      <th>4910</th>\n",
       "      <th>4911</th>\n",
       "      <th>4912</th>\n",
       "      <th>4913</th>\n",
       "      <th>4914</th>\n",
       "      <th>4915</th>\n",
       "      <th>4916</th>\n",
       "      <th>4917</th>\n",
       "    </tr>\n",
       "  </thead>\n",
       "  <tbody>\n",
       "    <tr>\n",
       "      <th>EUR/USD</th>\n",
       "      <td>1.181200</td>\n",
       "      <td>1.176000</td>\n",
       "      <td>1.163600</td>\n",
       "      <td>1.167200</td>\n",
       "      <td>1.155400</td>\n",
       "      <td>1.153400</td>\n",
       "      <td>1.154800</td>\n",
       "      <td>1.169800</td>\n",
       "      <td>1.168900</td>\n",
       "      <td>1.159100</td>\n",
       "      <td>...</td>\n",
       "      <td>1.171000</td>\n",
       "      <td>1.166400</td>\n",
       "      <td>1.164500</td>\n",
       "      <td>1.160400</td>\n",
       "      <td>1.170800</td>\n",
       "      <td>1.170200</td>\n",
       "      <td>1.168400</td>\n",
       "      <td>1.167700</td>\n",
       "      <td>1.165400</td>\n",
       "      <td>1.166000</td>\n",
       "    </tr>\n",
       "    <tr>\n",
       "      <th>GBP/USD</th>\n",
       "      <td>1.658100</td>\n",
       "      <td>1.656600</td>\n",
       "      <td>1.654700</td>\n",
       "      <td>1.649500</td>\n",
       "      <td>1.640500</td>\n",
       "      <td>1.637500</td>\n",
       "      <td>1.630800</td>\n",
       "      <td>1.649300</td>\n",
       "      <td>1.653000</td>\n",
       "      <td>1.650000</td>\n",
       "      <td>...</td>\n",
       "      <td>1.323600</td>\n",
       "      <td>1.316100</td>\n",
       "      <td>1.305000</td>\n",
       "      <td>1.298700</td>\n",
       "      <td>1.311400</td>\n",
       "      <td>1.310500</td>\n",
       "      <td>1.313500</td>\n",
       "      <td>1.315000</td>\n",
       "      <td>1.311900</td>\n",
       "      <td>1.311800</td>\n",
       "    </tr>\n",
       "    <tr>\n",
       "      <th>AUD/USD</th>\n",
       "      <td>0.618200</td>\n",
       "      <td>0.621700</td>\n",
       "      <td>0.628500</td>\n",
       "      <td>0.634000</td>\n",
       "      <td>0.632600</td>\n",
       "      <td>0.639500</td>\n",
       "      <td>0.640100</td>\n",
       "      <td>0.631000</td>\n",
       "      <td>0.631500</td>\n",
       "      <td>0.634000</td>\n",
       "      <td>...</td>\n",
       "      <td>0.741600</td>\n",
       "      <td>0.739200</td>\n",
       "      <td>0.739200</td>\n",
       "      <td>0.733200</td>\n",
       "      <td>0.741000</td>\n",
       "      <td>0.738300</td>\n",
       "      <td>0.741600</td>\n",
       "      <td>0.741200</td>\n",
       "      <td>0.738400</td>\n",
       "      <td>0.741000</td>\n",
       "    </tr>\n",
       "    <tr>\n",
       "      <th>USD/CAD</th>\n",
       "      <td>0.654965</td>\n",
       "      <td>0.657333</td>\n",
       "      <td>0.661813</td>\n",
       "      <td>0.661507</td>\n",
       "      <td>0.660284</td>\n",
       "      <td>0.663482</td>\n",
       "      <td>0.662471</td>\n",
       "      <td>0.653595</td>\n",
       "      <td>0.654236</td>\n",
       "      <td>0.654022</td>\n",
       "      <td>...</td>\n",
       "      <td>0.761557</td>\n",
       "      <td>0.757691</td>\n",
       "      <td>0.757404</td>\n",
       "      <td>0.753523</td>\n",
       "      <td>0.760167</td>\n",
       "      <td>0.760456</td>\n",
       "      <td>0.759590</td>\n",
       "      <td>0.763126</td>\n",
       "      <td>0.764526</td>\n",
       "      <td>0.765873</td>\n",
       "    </tr>\n",
       "    <tr>\n",
       "      <th>USD/CHF</th>\n",
       "      <td>0.731743</td>\n",
       "      <td>0.730247</td>\n",
       "      <td>0.721917</td>\n",
       "      <td>0.721345</td>\n",
       "      <td>0.715820</td>\n",
       "      <td>0.716178</td>\n",
       "      <td>0.719942</td>\n",
       "      <td>0.736106</td>\n",
       "      <td>0.734322</td>\n",
       "      <td>0.725426</td>\n",
       "      <td>...</td>\n",
       "      <td>1.002607</td>\n",
       "      <td>1.000801</td>\n",
       "      <td>1.000600</td>\n",
       "      <td>0.998403</td>\n",
       "      <td>1.005632</td>\n",
       "      <td>1.007354</td>\n",
       "      <td>1.005632</td>\n",
       "      <td>1.005834</td>\n",
       "      <td>1.006239</td>\n",
       "      <td>1.006036</td>\n",
       "    </tr>\n",
       "  </tbody>\n",
       "</table>\n",
       "<p>5 rows × 4918 columns</p>\n",
       "</div>"
      ],
      "text/plain": [
       "             0         1         2         3         4         5         6     \\\n",
       "EUR/USD  1.181200  1.176000  1.163600  1.167200  1.155400  1.153400  1.154800   \n",
       "GBP/USD  1.658100  1.656600  1.654700  1.649500  1.640500  1.637500  1.630800   \n",
       "AUD/USD  0.618200  0.621700  0.628500  0.634000  0.632600  0.639500  0.640100   \n",
       "USD/CAD  0.654965  0.657333  0.661813  0.661507  0.660284  0.663482  0.662471   \n",
       "USD/CHF  0.731743  0.730247  0.721917  0.721345  0.715820  0.716178  0.719942   \n",
       "\n",
       "             7         8         9       ...         4908      4909      4910  \\\n",
       "EUR/USD  1.169800  1.168900  1.159100    ...     1.171000  1.166400  1.164500   \n",
       "GBP/USD  1.649300  1.653000  1.650000    ...     1.323600  1.316100  1.305000   \n",
       "AUD/USD  0.631000  0.631500  0.634000    ...     0.741600  0.739200  0.739200   \n",
       "USD/CAD  0.653595  0.654236  0.654022    ...     0.761557  0.757691  0.757404   \n",
       "USD/CHF  0.736106  0.734322  0.725426    ...     1.002607  1.000801  1.000600   \n",
       "\n",
       "             4911      4912      4913      4914      4915      4916      4917  \n",
       "EUR/USD  1.160400  1.170800  1.170200  1.168400  1.167700  1.165400  1.166000  \n",
       "GBP/USD  1.298700  1.311400  1.310500  1.313500  1.315000  1.311900  1.311800  \n",
       "AUD/USD  0.733200  0.741000  0.738300  0.741600  0.741200  0.738400  0.741000  \n",
       "USD/CAD  0.753523  0.760167  0.760456  0.759590  0.763126  0.764526  0.765873  \n",
       "USD/CHF  0.998403  1.005632  1.007354  1.005632  1.005834  1.006239  1.006036  \n",
       "\n",
       "[5 rows x 4918 columns]"
      ]
     },
     "execution_count": 17,
     "metadata": {},
     "output_type": "execute_result"
    }
   ],
   "source": [
    "# New DataFrame expressed in US Dollars only for comparison\n",
    "USD_df = pd.DataFrame(data=[EUR_USD, GBP_USD, AUD_USD, CAD_USD, CHF_USD])\n",
    "USD_df.head()"
   ]
  },
  {
   "cell_type": "code",
   "execution_count": null,
   "metadata": {},
   "outputs": [],
   "source": []
  }
 ],
 "metadata": {
  "kernelspec": {
   "display_name": "Python 3",
   "language": "python",
   "name": "python3"
  },
  "language_info": {
   "codemirror_mode": {
    "name": "ipython",
    "version": 3
   },
   "file_extension": ".py",
   "mimetype": "text/x-python",
   "name": "python",
   "nbconvert_exporter": "python",
   "pygments_lexer": "ipython3",
   "version": "3.6.4"
  }
 },
 "nbformat": 4,
 "nbformat_minor": 2
}
